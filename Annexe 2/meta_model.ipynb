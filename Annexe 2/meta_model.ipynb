{
 "cells": [
  {
   "cell_type": "markdown",
   "id": "07e2a766",
   "metadata": {},
   "source": [
    "# Test de méthodes pour rassembler les modèles"
   ]
  },
  {
   "cell_type": "markdown",
   "id": "32aebecf",
   "metadata": {},
   "source": [
    "## Imports"
   ]
  },
  {
   "cell_type": "code",
   "execution_count": 61,
   "id": "d158d3d5",
   "metadata": {},
   "outputs": [],
   "source": [
    "from sklearn.ensemble import VotingClassifier\n",
    "from joblib import load\n",
    "from sklearn.metrics import accuracy_score, f1_score, classification_report\n",
    "from sklearn.model_selection import train_test_split\n",
    "import pandas as pd\n",
    "import numpy as np\n",
    "from sklearn.metrics import classification_report, confusion_matrix, ConfusionMatrixDisplay,accuracy_score, cohen_kappa_score\n",
    "import matplotlib.pyplot as plt\n",
    "from sklearn.model_selection import cross_val_score, StratifiedKFold\n",
    "from sklearn.linear_model import LogisticRegression\n",
    "from sklearn.tree import DecisionTreeClassifier\n",
    "import seaborn as sns\n"
   ]
  },
  {
   "cell_type": "code",
   "execution_count": 62,
   "id": "1f7a0eb6",
   "metadata": {},
   "outputs": [],
   "source": [
    "def load_probas_from_csv(file_path):\n",
    "    \"\"\"\n",
    "    Loads probabilities from a CSV file and returns them as a numpy array.\n",
    "    \"\"\"\n",
    "    try:\n",
    "        df = pd.read_csv(file_path)\n",
    "        return df\n",
    "    except ValueError as e:\n",
    "        print(f\"Error reading probabilities CSV file: {e}\")\n",
    "        return None"
   ]
  },
  {
   "cell_type": "markdown",
   "id": "f056ce52",
   "metadata": {},
   "source": [
    "## Reading data"
   ]
  },
  {
   "cell_type": "markdown",
   "id": "e8b4cb2f",
   "metadata": {},
   "source": [
    "### VERSION 1"
   ]
  },
  {
   "cell_type": "code",
   "execution_count": 156,
   "id": "6dd4fbe9",
   "metadata": {},
   "outputs": [
    {
     "name": "stdout",
     "output_type": "stream",
     "text": [
      "Training set size: 1506, Test set size: 377\n"
     ]
    }
   ],
   "source": [
    "\n",
    "rf_prob = load_probas_from_csv('predictions/rf_proba.csv')\n",
    "xgb_prob = load_probas_from_csv('predictions/xgb_proba.csv')\n",
    "# smiles_prob = load_probas_from_csv('predictions/smiles_proba.csv')\n",
    "# smiles_prob = load_probas_from_csv('predictions/gcn_proba.csv')\n",
    "\n",
    "\n",
    "meta_features = pd.concat([\n",
    "    rf_prob.iloc[:, 1],\n",
    "    xgb_prob.iloc[:, 1],\n",
    "    # smiles_prob.iloc[:, 1]\n",
    "], axis=1)\n",
    "meta_features.columns = [ 'rf', 'xgb']\n",
    "\n",
    "y = pd.read_csv('data/train_data_20.csv')['class'].values\n",
    "\n",
    "X_train, X_test, y_train, y_test = train_test_split(meta_features, y, test_size=0.2, random_state=42)\n",
    "print(f\"Training set size: {X_train.shape[0]}, Test set size: {X_test.shape[0]}\")\n"
   ]
  },
  {
   "cell_type": "markdown",
   "id": "3012e104",
   "metadata": {},
   "source": [
    "### VERSION 2"
   ]
  },
  {
   "cell_type": "code",
   "execution_count": 63,
   "id": "0030e712",
   "metadata": {},
   "outputs": [
    {
     "name": "stdout",
     "output_type": "stream",
     "text": [
      "Training set size: (1506, 4), Test set size: (377, 4)\n"
     ]
    }
   ],
   "source": [
    "FP_XGB_prob = load_probas_from_csv('predictions/FP_XGB.csv')\n",
    "GNN_prob = load_probas_from_csv('predictions/predictions_GNN.csv')\n",
    "mlp_desc_prob = load_probas_from_csv('predictions/mlp_desc_proba.csv')\n",
    "smiles_prob = load_probas_from_csv('predictions/smiles_proba3.csv')\n",
    "\n",
    "meta_features = pd.concat([\n",
    "    FP_XGB_prob.iloc[:, 1], \n",
    "    GNN_prob.iloc[:, 1],\n",
    "    mlp_desc_prob.iloc[:, 1],\n",
    "    smiles_prob.iloc[:, 1]\n",
    "], axis=1)\n",
    "meta_features.columns = [ 'fp_xgb', 'gnn', 'mlp', 'smiles']\n",
    "\n",
    "y = pd.read_csv('data/train_data_20.csv')['class'].values\n",
    "\n",
    "X_train, X_test, y_train, y_test = train_test_split(meta_features, y, test_size=0.2, random_state=42)\n",
    "print(f\"Training set size: {X_train.shape}, Test set size: {X_test.shape}\")\n"
   ]
  },
  {
   "cell_type": "code",
   "execution_count": null,
   "id": "3635c4ce",
   "metadata": {},
   "outputs": [],
   "source": [
    "# Analyser les différences entre les modèles\n",
    "def compare_probas(probas, y_true):\n",
    "    \"\"\"\n",
    "    Compare the predicted probabilities of different models.\n",
    "    args:\n",
    "        probas DataFrame: DataFrame of predicted probabilities from different models.\n",
    "        y_true (np.array): True labels.\n",
    "    \"\"\"\n",
    "    for i, proba in enumerate(probas):\n",
    "        y_pred = np.argmax(proba, axis=1)\n",
    "        acc = accuracy_score(y_true, y_pred)\n",
    "        f1 = f1_score(y_true, y_pred, average='weighted')\n",
    "        print(f\"Model {i+1} - Accuracy: {acc:.4f}, F1 Score: {f1:.4f}\")\n",
    "        print(classification_report(y_true, y_pred))\n",
    "        cm = confusion_matrix(y_true, y_pred)\n",
    "        disp = ConfusionMatrixDisplay(confusion_matrix=cm)\n",
    "        disp.plot()\n",
    "        plt.title(f'Confusion Matrix for Model {i+1}')\n",
    "        plt.show()"
   ]
  },
  {
   "cell_type": "code",
   "execution_count": 104,
   "id": "83a1a6f2",
   "metadata": {},
   "outputs": [],
   "source": [
    "def compare_probas(probas, y_true):\n",
    "    \"\"\"\n",
    "    Compare les probabilités prédites par différents modèles et analyse leurs similarités.\n",
    "    \n",
    "    Args:\n",
    "        probas (DataFrame): DataFrame contenant les probabilités de classe 1 pour chaque modèle.\n",
    "                           Les colonnes sont les noms des modèles, les lignes sont les échantillons.\n",
    "        y_true (pd.Series or np.array): Étiquettes vraies (0 ou 1).\n",
    "    \n",
    "    Returns:\n",
    "        dict: Dictionnaire contenant les différentes analyses.\n",
    "    \"\"\"\n",
    "    results = {}\n",
    "    \n",
    "    # 1. Conversion des probas en prédictions (seuil à 0.5)\n",
    "    predictions = probas.applymap(lambda x: 1 if x >= 0.5 else 0)\n",
    "    \n",
    "    # 2. Calcul des erreurs grossières (où les modèles se trompent violemment)\n",
    "    treshold = 0.9\n",
    "    errors = {}\n",
    "    for model in probas.columns:\n",
    "        # Cas où le modèle est très confiant mais incorrect\n",
    "        high_conf_wrong = ((probas[model] > treshold) & (y_true == 0)) | ((probas[model] < 1 - treshold) & (y_true == 1))\n",
    "        errors[model] = {\n",
    "            'count': high_conf_wrong.sum(),\n",
    "            'percentage': high_conf_wrong.mean() * 100,\n",
    "            'indices': high_conf_wrong[high_conf_wrong].index.tolist()\n",
    "        }\n",
    "    \n",
    "    results['gross_errors'] = errors\n",
    "    \n",
    "    # 3. Matrice de corrélation entre les probas des modèles\n",
    "    corr_matrix = probas.corr()\n",
    "    results['correlation_matrix'] = corr_matrix\n",
    "    \n",
    "    # 4. Différences absolues moyennes entre les modèles\n",
    "    from itertools import combinations\n",
    "    diff_results = {}\n",
    "    for (model1, model2) in combinations(probas.columns, 2):\n",
    "        diff = np.mean(np.abs(probas[model1] - probas[model2]))\n",
    "        diff_results[f\"{model1} vs {model2}\"] = diff\n",
    "    results['mean_absolute_differences'] = diff_results\n",
    "    \n",
    "    # 5. Pourcentage de prédictions identiques (au seuil 0.5)\n",
    "    agreement_results = {}\n",
    "    for (model1, model2) in combinations(predictions.columns, 2):\n",
    "        agreement = np.mean(predictions[model1] == predictions[model2])\n",
    "        agreement_results[f\"{model1} vs {model2}\"] = agreement * 100\n",
    "    results['prediction_agreement'] = agreement_results\n",
    "    \n",
    "    return results\n",
    "\n",
    "def plot_comparison_results(results):\n",
    "    \"\"\"Visualise les résultats de la comparaison.\"\"\"\n",
    "    \n",
    "    # 1. Plot des erreurs grossières\n",
    "    errors_df = pd.DataFrame({model: [results['gross_errors'][model]['percentage']] \n",
    "                             for model in results['gross_errors']})\n",
    "    plt.figure(figsize=(10, 5))\n",
    "    sns.barplot(data=errors_df)\n",
    "    plt.title(\"Pourcentage d'erreurs grossières (confiance > treshold mais prédiction incorrecte)\")\n",
    "    plt.ylabel(\"Pourcentage\")\n",
    "    plt.show()\n",
    "    \n",
    "    # 2. Heatmap de corrélation\n",
    "    plt.figure(figsize=(8, 6))\n",
    "    sns.heatmap(results['correlation_matrix'], annot=True, cmap='coolwarm', vmin=0, vmax=1)\n",
    "    plt.title(\"Corrélation entre les probabilités des modèles\")\n",
    "    plt.show()\n",
    "    \n",
    "    # 3. \n",
    "    diff_df = pd.DataFrame.from_dict(results['mean_absolute_differences'], \n",
    "                                   orient='index', columns=['Difference'])\n",
    "    diff_df.plot(kind='bar', figsize=(10, 5), legend=False)\n",
    "    plt.title(\"Différence absolue moyenne entre les probabilités des modèles\")\n",
    "    plt.ylabel(\"Différence moyenne\")\n",
    "    plt.show()\n",
    "\n",
    "    # 4. \n",
    "    # diff_df = pd.DataFrame.from_dict(results['prediction_agreement'],\n",
    "    #                                orient='index', columns=['Agreement (%)']) \n",
    "    # diff_df.plot(kind='bar', figsize=(10, 5), legend=False)\n",
    "    # plt.title(\"Pourcentage d'accord entre les prédictions des modèles\")\n",
    "    # plt.ylabel(\"Pourcentage d'accord\")\n",
    "    # plt.show()"
   ]
  },
  {
   "cell_type": "code",
   "execution_count": 105,
   "id": "2d82ea09",
   "metadata": {},
   "outputs": [
    {
     "name": "stderr",
     "output_type": "stream",
     "text": [
      "C:\\Users\\nonoa\\AppData\\Local\\Temp\\ipykernel_2432\\92678812.py:16: FutureWarning: DataFrame.applymap has been deprecated. Use DataFrame.map instead.\n",
      "  predictions = probas.applymap(lambda x: 1 if x >= 0.5 else 0)\n"
     ]
    },
    {
     "data": {
      "image/png": "[encoded data removed]",
      "text/plain": [
       "<Figure size 1000x500 with 1 Axes>"
      ]
     },
     "metadata": {},
     "output_type": "display_data"
    },
    {
     "data": {
      "image/png": "[encoded data removed]",
      "text/plain": [
       "<Figure size 800x600 with 2 Axes>"
      ]
     },
     "metadata": {},
     "output_type": "display_data"
    },
    {
     "data": {
      "image/png": "[encoded data removed]",
      "text/plain": [
       "<Figure size 1000x500 with 1 Axes>"
      ]
     },
     "metadata": {},
     "output_type": "display_data"
    }
   ],
   "source": [
    "results = compare_probas(meta_features, y)\n",
    "plot_comparison_results(results)"
   ]
  },
  {
   "cell_type": "markdown",
   "id": "49cd2afe",
   "metadata": {},
   "source": [
    "### Calcul de coefficient de confiance pour chaque modèle"
   ]
  },
  {
   "cell_type": "code",
   "execution_count": 106,
   "id": "266ed584",
   "metadata": {},
   "outputs": [],
   "source": [
    "def compute_confidence_score(y_true, y_proba):\n",
    "    \"\"\"\n",
    "    Calcule un coefficient de confiance pour un modèle de classification binaire.\n",
    "    \n",
    "    Args:\n",
    "        y_true (array): Vraies étiquettes (0 ou 1).\n",
    "        y_proba (array): Probabilités prédites pour la classe 1 (entre 0 et 1).\n",
    "    \n",
    "    Returns:\n",
    "        float: Score de confiance entre 0 (pas confiant) et 1 (très confiant).\n",
    "    \"\"\"\n",
    "    # Convertir y_true en array numpy au cas où\n",
    "    y_true = np.array(y_true)\n",
    "    y_proba = np.array(y_proba)\n",
    "    \n",
    "    # Calculer la \"confiance\" comme la moyenne de 1 - |y_true - y_proba|\n",
    "    confidence = 1 - np.mean(np.abs(y_true - y_proba))\n",
    "    \n",
    "    return round(confidence, 4)"
   ]
  },
  {
   "cell_type": "code",
   "execution_count": 107,
   "id": "3f4036b5",
   "metadata": {},
   "outputs": [],
   "source": [
    "def compare_models_confidence(probas_df, y_true):\n",
    "    \"\"\"Calcule le score de confiance pour chaque modèle.\"\"\"\n",
    "    confidence_scores = []\n",
    "    for model in probas_df.columns:\n",
    "        confidence_scores.append(compute_confidence_score(y_true, probas_df[model]))\n",
    "    return confidence_scores"
   ]
  },
  {
   "cell_type": "code",
   "execution_count": 130,
   "id": "d730a291",
   "metadata": {},
   "outputs": [
    {
     "name": "stdout",
     "output_type": "stream",
     "text": [
      "[np.float64(0.7588), np.float64(0.737)]\n"
     ]
    }
   ],
   "source": [
    "confidence_scores = compare_models_confidence(meta_features, y)\n",
    "print(confidence_scores)"
   ]
  },
  {
   "cell_type": "markdown",
   "id": "6057b404",
   "metadata": {},
   "source": [
    "### Entraînement d'un decision tree"
   ]
  },
  {
   "cell_type": "code",
   "execution_count": 109,
   "id": "39ed6408",
   "metadata": {},
   "outputs": [
    {
     "name": "stdout",
     "output_type": "stream",
     "text": [
      "Fitting 5 folds for each of 36 candidates, totalling 180 fits\n",
      "✅ Best parameters: {'max_depth': 3, 'min_samples_leaf': 1, 'min_samples_split': 2}\n",
      "\n",
      "\n",
      "Classification Report:\n",
      "========================================\n",
      "              precision    recall  f1-score   support\n",
      "\n",
      "     Class 0     0.8112    0.8503    0.8303       187\n",
      "     Class 1     0.8453    0.8053    0.8248       190\n",
      "\n",
      "    accuracy                         0.8276       377\n",
      "   macro avg     0.8283    0.8278    0.8275       377\n",
      "weighted avg     0.8284    0.8276    0.8275       377\n",
      "\n",
      "Cohen's Kappa Score: 0.6553\n"
     ]
    },
    {
     "data": {
      "image/png": "[encoded data removed]",
      "text/plain": [
       "<Figure size 640x480 with 2 Axes>"
      ]
     },
     "metadata": {},
     "output_type": "display_data"
    }
   ],
   "source": [
    "from sklearn.tree import DecisionTreeClassifier\n",
    "from sklearn.model_selection import GridSearchCV\n",
    "from sklearn.metrics import classification_report, cohen_kappa_score, confusion_matrix, ConfusionMatrixDisplay\n",
    "\n",
    "# Définir le modèle de base\n",
    "model = DecisionTreeClassifier(random_state=42)\n",
    "\n",
    "# Définir une grille simple de recherche\n",
    "param_grid = {\n",
    "    'max_depth': [3, 5, 10, None],\n",
    "    'min_samples_split': [2, 5, 10],\n",
    "    'min_samples_leaf': [1, 2, 5]\n",
    "}\n",
    "\n",
    "# Lancer la recherche par validation croisée (sans group CV ici pour simplicité)\n",
    "grid = GridSearchCV(\n",
    "    estimator=model,\n",
    "    param_grid=param_grid,\n",
    "    scoring='f1',\n",
    "    cv=5,\n",
    "    verbose=1,\n",
    "    n_jobs=-1\n",
    ")\n",
    "\n",
    "# Entraînement\n",
    "grid.fit(X_train, y_train)\n",
    "best_model = grid.best_estimator_\n",
    "print(\"✅ Best parameters:\", grid.best_params_)\n",
    "\n",
    "# Prédiction\n",
    "y_pred = best_model.predict(X_test)\n",
    "\n",
    "# Rapport de classification\n",
    "print(\"\\n\\nClassification Report:\")\n",
    "print(\"========================================\")\n",
    "print(classification_report(y_test, y_pred, target_names=['Class 0', 'Class 1'], digits=4))\n",
    "\n",
    "# Kappa\n",
    "kappa_score = cohen_kappa_score(y_pred, y_test)\n",
    "print(f\"Cohen's Kappa Score: {kappa_score:.4f}\")\n",
    "\n",
    "# Matrice de confusion\n",
    "cm = confusion_matrix(y_test, y_pred)\n",
    "disp = ConfusionMatrixDisplay(confusion_matrix=cm)\n",
    "disp.plot(cmap=plt.cm.Blues)\n",
    "plt.title('Matrice de Confusion (Decision Tree)')\n",
    "plt.show()\n"
   ]
  },
  {
   "cell_type": "code",
   "execution_count": 70,
   "id": "7fd342af",
   "metadata": {},
   "outputs": [
    {
     "name": "stdout",
     "output_type": "stream",
     "text": [
      "(1506, 4) (377, 4)\n"
     ]
    }
   ],
   "source": [
    "print(X_train.shape, X_test.shape)"
   ]
  },
  {
   "cell_type": "markdown",
   "id": "81143554",
   "metadata": {},
   "source": [
    "### Moyenne des probas"
   ]
  },
  {
   "cell_type": "code",
   "execution_count": null,
   "id": "0a76516e",
   "metadata": {},
   "outputs": [],
   "source": [
    "def tqt(metafeature, method='majority', weights=None):\n",
    "    \"\"\"\n",
    "    Prend une décision binaire à partir d'une liste de prédictions ou de probabilités.\n",
    "\n",
    "    - majority : vote majoritaire. En cas d'égalité, on choisit la classe avec la plus grande somme de confiance.\n",
    "    - mean     : moyenne avec seuil à 0.5\n",
    "    - average  : moyenne pondérée\n",
    "    \"\"\"\n",
    "    metafeature = np.array(metafeature)\n",
    "\n",
    "    if method == 'majority':\n",
    "        # Convertir en classes 0/1 (par exemple à partir de probas)\n",
    "        bin_preds = (metafeature >= 0.5).astype(int)\n",
    "        votes_0 = np.sum(bin_preds == 0)\n",
    "        votes_1 = np.sum(bin_preds == 1)\n",
    "\n",
    "        if votes_1 > votes_0:\n",
    "            return 1\n",
    "        elif votes_0 > votes_1:\n",
    "            return 0\n",
    "        else:\n",
    "            # Égalité → choisir la classe avec plus de confiance totale\n",
    "            conf_1 = np.sum(metafeature[bin_preds == 1])\n",
    "            conf_0 = np.sum(1 - metafeature[bin_preds == 0])\n",
    "            return int(conf_1 >= conf_0)\n",
    "\n",
    "    elif method == 'mean':\n",
    "        return np.mean(metafeature)\n",
    "\n",
    "    elif method == 'average':\n",
    "        if weights is None:\n",
    "            raise ValueError(\"Pour 'average', weights est requis.\")\n",
    "        return int(np.average(metafeature, weights=weights) >= 0.5)\n",
    "\n",
    "    else:\n",
    "        raise ValueError(\"Méthode invalide. Choisir 'majority', 'mean' ou 'average'.\")\n"
   ]
  },
  {
   "cell_type": "code",
   "execution_count": 135,
   "id": "1d33e6f8",
   "metadata": {},
   "outputs": [
    {
     "name": "stdout",
     "output_type": "stream",
     "text": [
      "0.838024429102496\n",
      "0.6762118622997659\n"
     ]
    }
   ],
   "source": [
    "y_pred = [tqt(meta_feature, method='average', weights=confidence_scores) for meta_feature in meta_features.values]\n",
    "print(np.mean(y_pred == y))\n",
    "print(cohen_kappa_score(y_pred, y))\n"
   ]
  },
  {
   "cell_type": "code",
   "execution_count": 136,
   "id": "d14a5719",
   "metadata": {},
   "outputs": [
    {
     "name": "stdout",
     "output_type": "stream",
     "text": [
      "0.838024429102496\n",
      "0.6762118622997659\n"
     ]
    }
   ],
   "source": [
    "y_pred = [tqt(meta_feature, method='mean') for meta_feature in meta_features.values]\n",
    "print(np.mean(y_pred == y))\n",
    "print(cohen_kappa_score(y_pred, y))\n"
   ]
  },
  {
   "cell_type": "code",
   "execution_count": 137,
   "id": "b4e524ec",
   "metadata": {},
   "outputs": [
    {
     "name": "stdout",
     "output_type": "stream",
     "text": [
      "0.838024429102496\n",
      "0.6762118622997659\n"
     ]
    }
   ],
   "source": [
    "y_pred = [tqt(meta_feature, method='majority', weights=confidence_scores) for meta_feature in meta_features.values]\n",
    "print(np.mean(y_pred == y))\n",
    "print(cohen_kappa_score(y_pred, y))\n"
   ]
  },
  {
   "cell_type": "markdown",
   "id": "c316bd09",
   "metadata": {},
   "source": [
    "# TEST 1"
   ]
  },
  {
   "cell_type": "code",
   "execution_count": 94,
   "id": "f270fb98",
   "metadata": {},
   "outputs": [
    {
     "name": "stderr",
     "output_type": "stream",
     "text": [
      "C:\\Users\\nonoa\\AppData\\Local\\Temp\\ipykernel_2432\\161331761.py:22: FutureWarning: \n",
      "\n",
      "Passing `palette` without assigning `hue` is deprecated and will be removed in v0.14.0. Assign the `x` variable to `hue` and set `legend=False` for the same effect.\n",
      "\n",
      "  sns.countplot(data=y_pred_test_1, x='class', palette='pastel')\n"
     ]
    },
    {
     "data": {
      "image/png": "[encoded data removed]",
      "text/plain": [
       "<Figure size 640x480 with 1 Axes>"
      ]
     },
     "metadata": {},
     "output_type": "display_data"
    },
    {
     "name": "stdout",
     "output_type": "stream",
     "text": [
      "                                              SMILES  class\n",
      "0                      Brc1cccc2nc(C#Cc3ccccn3)ccc12      0\n",
      "1           C#CC1(O)CCC2C3CCC4=CC(=O)CCC4(C)C3CCC21C      0\n",
      "2  C#CC1CCC(C#N)N1C(=O)CNC1(C)CCN(c2cc(C(=O)O)ccn...      0\n",
      "3                    C#CCN(C)CC1=Cc2ccccc2Oc2ccccc21      1\n",
      "4  C#Cc1cc(-c2n[nH]c3c2Cc2cc(CN4CCN(C)CC4)ccc2-3)cs1      1\n"
     ]
    }
   ],
   "source": [
    "FP_XGB_prob = load_probas_from_csv('pred_sur_test/prediction_xgb.csv')\n",
    "GNN_prob = load_probas_from_csv('pred_sur_test/predictions_gnn.csv')\n",
    "mlp_desc_prob = load_probas_from_csv('pred_sur_test/prediction_mlp.csv')\n",
    "smiles_prob = load_probas_from_csv('pred_sur_test/predictions_trf.csv')\n",
    "\n",
    "meta_features = pd.concat([\n",
    "    FP_XGB_prob.iloc[:, 1], \n",
    "    GNN_prob.iloc[:, 1],\n",
    "    mlp_desc_prob.iloc[:, 1],\n",
    "    smiles_prob.iloc[:, 1]\n",
    "], axis=1)\n",
    "meta_features.columns = [ 'fp_xgb', 'gnn', 'mlp', 'smiles']\n",
    "\n",
    "\n",
    "y_pred = [tqt(meta_feature, method='mean', weights=confidence_scores) for meta_feature in meta_features.values]\n",
    "y_pred_test_1 = pd.DataFrame({'SMILES' : FP_XGB_prob.iloc[:, 0], 'class' : y_pred})\n",
    "\n",
    "# Assure que la colonne 'class' est bien numérique\n",
    "y_pred_test_1['class'] = y_pred_test_1['class'].astype(int)\n",
    "\n",
    "# Barplot\n",
    "sns.countplot(data=y_pred_test_1, x='class', palette='pastel')\n",
    "plt.title(\"Distribution des classes prédites\")\n",
    "plt.xlabel(\"Classe prédite\")\n",
    "plt.ylabel(\"Nombre de molécules\")\n",
    "plt.xticks([0, 1], ['Classe 0', 'Classe 1'])\n",
    "plt.tight_layout()\n",
    "plt.show()\n",
    "\n",
    "print(y_pred_test_1.head())\n",
    "\n"
   ]
  },
  {
   "cell_type": "markdown",
   "id": "914afe50",
   "metadata": {},
   "source": [
    "### version 1"
   ]
  },
  {
   "cell_type": "code",
   "execution_count": 154,
   "id": "2442780c",
   "metadata": {},
   "outputs": [
    {
     "name": "stderr",
     "output_type": "stream",
     "text": [
      "C:\\Users\\nonoa\\AppData\\Local\\Temp\\ipykernel_2432\\3466050958.py:22: FutureWarning: \n",
      "\n",
      "Passing `palette` without assigning `hue` is deprecated and will be removed in v0.14.0. Assign the `x` variable to `hue` and set `legend=False` for the same effect.\n",
      "\n",
      "  sns.countplot(data=y_pred_test_1, x='class', palette='pastel')\n"
     ]
    },
    {
     "data": {
      "image/png": "[encoded data removed]",
      "text/plain": [
       "<Figure size 640x480 with 1 Axes>"
      ]
     },
     "metadata": {},
     "output_type": "display_data"
    },
    {
     "name": "stdout",
     "output_type": "stream",
     "text": [
      "                                              smiles  class\n",
      "0                      Brc1cccc2nc(C#Cc3ccccn3)ccc12      0\n",
      "1           C#CC1(O)CCC2C3CCC4=CC(=O)CCC4(C)C3CCC21C      0\n",
      "2  C#CC1CCC(C#N)N1C(=O)CNC1(C)CCN(c2cc(C(=O)O)ccn...      0\n",
      "3                    C#CCN(C)CC1=Cc2ccccc2Oc2ccccc21      1\n",
      "4  C#Cc1cc(-c2n[nH]c3c2Cc2cc(CN4CCN(C)CC4)ccc2-3)cs1      1\n"
     ]
    }
   ],
   "source": [
    "rf_prob = load_probas_from_csv('predictions/lgbm_proba_test_1.csv')\n",
    "xgb_prob = load_probas_from_csv('predictions/xgb_proba_test_1.csv')\n",
    "\n",
    "\n",
    "meta_features = pd.concat([\n",
    "    rf_prob.iloc[:, 1],\n",
    "    xgb_prob.iloc[:, 1],\n",
    "    # smiles_prob.iloc[:, 1]\n",
    "], axis=1)\n",
    "meta_features.columns = [ 'rf', 'xgb']\n",
    "\n",
    "\n",
    "y_pred_proba = np.array([tqt(meta_feature, method='mean', weights=confidence_scores) for meta_feature in meta_features.values])\n",
    "y_pred = np.array([1 if proba >= 0.5 else 0 for proba in y_pred_proba]).astype(int)\n",
    "\n",
    "y_pred_test_1 = pd.DataFrame({'smiles' : FP_XGB_prob.iloc[:, 0], 'class' : y_pred})\n",
    "\n",
    "# Assure que la colonne 'class' est bien numérique\n",
    "y_pred_test_1['class'] = y_pred_test_1['class'].astype(int)\n",
    "\n",
    "# Barplot\n",
    "sns.countplot(data=y_pred_test_1, x='class', palette='pastel')\n",
    "plt.title(\"Distribution des classes prédites\")\n",
    "plt.xlabel(\"Classe prédite\")\n",
    "plt.ylabel(\"Nombre de molécules\")\n",
    "plt.xticks([0, 1], ['Classe 0', 'Classe 1'])\n",
    "plt.tight_layout()\n",
    "plt.show()\n",
    "\n",
    "print(y_pred_test_1.head())\n",
    "\n"
   ]
  },
  {
   "cell_type": "code",
   "execution_count": 141,
   "id": "3243f4d7",
   "metadata": {},
   "outputs": [],
   "source": [
    "y_pred_test_1.to_csv('predictions/meta_test_1.csv', index=False)"
   ]
  },
  {
   "cell_type": "code",
   "execution_count": 100,
   "id": "de11f8a5",
   "metadata": {},
   "outputs": [],
   "source": [
    "def compare_csv_files(file1, file2):\n",
    "    df1 = pd.read_csv(file1)\n",
    "    df2 = pd.read_csv(file2)\n",
    "\n",
    "    # Vérifier les colonnes\n",
    "    if set(df1.columns) != set(df2.columns):\n",
    "        print(\"Les fichiers CSV n'ont pas les mêmes colonnes.\")\n",
    "        return\n",
    "\n",
    "    # Comparer les valeurs\n",
    "    differences = df1.compare(df2)\n",
    "\n",
    "    if differences.empty:\n",
    "        print(\"Les fichiers CSV sont identiques.\")\n",
    "    else:\n",
    "        print(\"Différences trouvées :\")\n",
    "        print(differences)\n",
    "        print(f\"Nombre de différences : {len(differences)}\")\n",
    "\n",
    "    y_1 = df1['class'].values\n",
    "    y_2 = df2['class'].values\n",
    "    print(np.sum(y_1 == 0), np.sum(y_1 == 1))\n",
    "    print(np.sum(y_2 == 0), np.sum(y_2 == 1))"
   ]
  },
  {
   "cell_type": "code",
   "execution_count": 155,
   "id": "a092102f",
   "metadata": {},
   "outputs": [
    {
     "name": "stdout",
     "output_type": "stream",
     "text": [
      "Différences trouvées :\n",
      "                                                smiles  \\\n",
      "                                                  self   \n",
      "0                        Brc1cccc2nc(C#Cc3ccccn3)ccc12   \n",
      "1             C#CC1(O)CCC2C3CCC4=CC(=O)CCC4(C)C3CCC21C   \n",
      "2    C#CC1CCC(C#N)N1C(=O)CNC1(C)CCN(c2cc(C(=O)O)ccn...   \n",
      "3                      C#CCN(C)CC1=Cc2ccccc2Oc2ccccc21   \n",
      "4    C#Cc1cc(-c2n[nH]c3c2Cc2cc(CN4CCN(C)CC4)ccc2-3)cs1   \n",
      "..                                                 ...   \n",
      "745                       c1cn(C2CCCCC2)nc1OCCN1CCOCC1   \n",
      "746               c1cnc(Nc2nc3c(s2)CCCc2[nH]ncc2-3)nc1   \n",
      "747                c1cnc2nc(Oc3ccc(CN4CCCCC4)cc3)sc2c1   \n",
      "748         c1cncc(-c2ccc(-c3noc(C4CN5CCC4CC5)n3)o2)c1   \n",
      "749                   c1cncc(-c2ccccc2OC2CC3CNCC2C3)c1   \n",
      "\n",
      "                                                class        \n",
      "                                          other  self other  \n",
      "0                  c1ccc(Cc2ncc3c(n2)CCNCC3)cc1   NaN   NaN  \n",
      "1             c1ccc(COc2ccc(CCNc3ccncc3)cc2)cc1   0.0   1.0  \n",
      "2           c1ccc(CN(c2cccc3sccc23)C2CCNCC2)cc1   0.0   1.0  \n",
      "3             c1ccc(CC2(c3ccc4sccc4c3)CCNC2)cc1   NaN   NaN  \n",
      "4           c1ccc(-n2cc(-c3ccnc4ccccc34)cn2)cc1   1.0   0.0  \n",
      "..                                          ...   ...   ...  \n",
      "745        c1cnc(Nc2nc3c(s2)CCCc2[nH]ncc2-3)nc1   NaN   NaN  \n",
      "746         c1cnc2nc(Oc3ccc(CN4CCCCC4)cc3)sc2c1   NaN   NaN  \n",
      "747  c1cncc(-c2ccc(-c3noc(C4CN5CCC4CC5)n3)o2)c1   NaN   NaN  \n",
      "748            c1cncc(-c2ccccc2OC2CC3CNCC2C3)c1   0.0   1.0  \n",
      "749               Brc1cccc2nc(C#Cc3ccccn3)ccc12   1.0   0.0  \n",
      "\n",
      "[750 rows x 4 columns]\n",
      "Nombre de différences : 750\n",
      "447 303\n",
      "474 276\n"
     ]
    }
   ],
   "source": [
    "compare_csv_files('pred_final/pred_1.csv', 'predictions/meta_test_1.csv')"
   ]
  },
  {
   "cell_type": "code",
   "execution_count": null,
   "id": "afeb0a21",
   "metadata": {},
   "outputs": [
    {
     "name": "stdout",
     "output_type": "stream",
     "text": [
      "                                                smiles  class\n",
      "735                       c1ccc(Cc2ncc3c(n2)CCNCC3)cc1      0\n",
      "734                  c1ccc(COc2ccc(CCNc3ccncc3)cc2)cc1      1\n",
      "733                c1ccc(CN(c2cccc3sccc23)C2CCNCC2)cc1      1\n",
      "732                  c1ccc(CC2(c3ccc4sccc4c3)CCNC2)cc1      1\n",
      "731                c1ccc(-n2cc(-c3ccnc4ccccc34)cn2)cc1      0\n",
      "730            c1ccc(-c2cnc(Nc3cc(CN4CCCC4)ccn3)s2)cc1      1\n",
      "729       c1cc2c(cc1C1OCC3C(c4ccc5c(c4)OCO5)OCC13)OCO2      0\n",
      "728                     c1cc(N2CCCCC2)ccc1OCCCN1CCCCC1      1\n",
      "727                c1cc(C2CC(CN3CCOCC3)C2)ccc1CN1CCCC1      1\n",
      "726             c1cc(-c2cnc3c(c2)CC2(CN4CCC2CC4)O3)co1      1\n",
      "725             c1cc(-c2ccc3c(c2)OCO3)ccc1OCCCN1CCCCC1      1\n",
      "724           c1c(NCCN2CCOCC2)nnn1C12CC3CC(CC(C3)C1)C2      0\n",
      "723        [O-][S+](c1ccc(C=Cc2ccc(F)cc2)nc1)c1ccccc1F      1\n",
      "722                      Oc1ccccc1CC(c1ccccc1)N1CCNCC1      0\n",
      "721     Oc1ccc(Oc2ccnc3cc(-c4cnn(C5CCNCC5)c4)ccc23)cc1      1\n",
      "720                      Oc1ccc(C2=Cc3ccc(O)cc3OC2)cc1      0\n",
      "15                    CC(=O)N(Cc1ccc2ccccc2c1)C1CCNCC1      0\n",
      "14   CC(=O)CN1CCN(c2cc3[nH]c(SC(C)(C)C)nc3cc2Cl)C(C)C1      0\n",
      "13                 C=CCc1ccc(O)c(-c2ccc(O)c(CC=C)c2)c1      0\n",
      "12            C=CC1CC2CCC1CC2C(O)c1ccc(N)c2ccc(OC)cc12      0\n"
     ]
    }
   ],
   "source": [
    "\n",
    "y_dist = pd.DataFrame({\n",
    "    'smiles': y_pred_test_1['smiles'],\n",
    "    'diff': np.abs(y_pred_proba - y_pred),\n",
    "    'class': y_pred_test_1['class']\n",
    "})\n",
    "\n",
    "# Trier le DataFrame par ordre croissant des différences\n",
    "y_dist_sorted = y_dist.sort_values(by='diff')\n",
    "\n",
    "\n",
    "\n",
    "\n",
    "y_final = y_dist_sorted.drop(columns=['diff'])\n",
    "\n",
    "print(y_final.head(20))\n",
    "\n",
    "y_final.to_csv('predictions/meta_test_2.csv', index=False)\n",
    "\n",
    "\n"
   ]
  },
  {
   "cell_type": "code",
   "execution_count": null,
   "id": "5430f301",
   "metadata": {},
   "outputs": [],
   "source": []
  }
 ],
 "metadata": {
  "kernelspec": {
   "display_name": "3.12.8",
   "language": "python",
   "name": "python3"
  },
  "language_info": {
   "codemirror_mode": {
    "name": "ipython",
    "version": 3
   },
   "file_extension": ".py",
   "mimetype": "text/x-python",
   "name": "python",
   "nbconvert_exporter": "python",
   "pygments_lexer": "ipython3",
   "version": "3.12.8"
  }
 },
 "nbformat": 4,
 "nbformat_minor": 5
}
