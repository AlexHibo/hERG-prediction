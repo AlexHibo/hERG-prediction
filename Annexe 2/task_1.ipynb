{
 "cells": [
  {
   "cell_type": "code",
   "execution_count": 1,
   "id": "4f0021f7",
   "metadata": {},
   "outputs": [],
   "source": [
    "from sklearn.ensemble import VotingClassifier\n",
    "from joblib import load\n",
    "from sklearn.metrics import accuracy_score, f1_score, classification_report\n",
    "from sklearn.model_selection import train_test_split\n",
    "import pandas as pd\n",
    "import numpy as np\n",
    "from sklearn.metrics import classification_report, confusion_matrix, ConfusionMatrixDisplay,accuracy_score, cohen_kappa_score\n",
    "import matplotlib.pyplot as plt\n",
    "from sklearn.model_selection import cross_val_score, StratifiedKFold\n",
    "from sklearn.linear_model import LogisticRegression\n"
   ]
  },
  {
   "cell_type": "code",
   "execution_count": 2,
   "id": "1b3440b7",
   "metadata": {},
   "outputs": [],
   "source": [
    "def read_csv_file(file_path):\n",
    "    \"\"\"\n",
    "    Reads a CSV file and returns its content as a pandas DataFrame.\n",
    "    \"\"\"\n",
    "    try:\n",
    "        df = pd.read_csv(file_path)\n",
    "        return df\n",
    "    except ValueError as e:\n",
    "        print(f\"Error reading CSV file: {e}\")\n",
    "        return None\n",
    "    \n",
    "    \n",
    "\n",
    "# Chargement des données\n",
    "train_data = pd.read_csv('data/train_data_80.csv')\n",
    "descriptors = train_data.iloc[:, 1:200]\n",
    "smiles = train_data.iloc[:, 0]  \n",
    "fingerprints = train_data.iloc[:, 200:-1]\n",
    "labels = train_data.iloc[:, -1]\n",
    "\n",
    "test_data = pd.read_csv('data/train_data_20.csv')\n",
    "descriptors_test = test_data.iloc[:, 1:200]\n",
    "smiles_test = test_data.iloc[:, 0]\n",
    "fingerprints_test = test_data.iloc[:, 200:-1]\n",
    "labels_test = test_data.iloc[:, -1]\n"
   ]
  },
  {
   "cell_type": "code",
   "execution_count": 3,
   "id": "d06e1d51",
   "metadata": {},
   "outputs": [],
   "source": [
    "def load_probas_from_csv(file_path):\n",
    "    \"\"\"\n",
    "    Loads probabilities from a CSV file and returns them as a numpy array.\n",
    "    \"\"\"\n",
    "    try:\n",
    "        df = pd.read_csv(file_path)\n",
    "        return df\n",
    "    except ValueError as e:\n",
    "        print(f\"Error reading probabilities CSV file: {e}\")\n",
    "        return None"
   ]
  },
  {
   "cell_type": "markdown",
   "id": "ce8caddf",
   "metadata": {},
   "source": [
    "## reg log fingerprints"
   ]
  },
  {
   "cell_type": "code",
   "execution_count": 4,
   "id": "30fe3bca",
   "metadata": {},
   "outputs": [
    {
     "name": "stdout",
     "output_type": "stream",
     "text": [
      "                                              smiles  gcn_prob  reg_prob  \\\n",
      "0  CCn1c(=O)oc2ccc(-c3ccc(CC(C#N)NC(=O)C4CNCCCO4)...  0.089505  0.509066   \n",
      "1  O=C(O)CCCCOc1ccc2ncc(F)c(CCC34CCC(NCc5ccc6c(n5...  0.785084  0.003511   \n",
      "2    CNC(=O)c1ccc(-c2ccc3c(c2)CCN(CCN2CCCC2)C3=O)cc1  0.643717  0.928476   \n",
      "3  CCN(CC)c1cc(C(F)(F)F)cc(COCC2(c3ccc(F)cc3)CCN(...  0.931346  0.671753   \n",
      "4            c1cncc(C(Cc2ccccc2-c2ccncc2)c2cccnc2)c1  0.071936  0.682976   \n",
      "\n",
      "   xgb_prob  \n",
      "0  0.077500  \n",
      "1  0.222387  \n",
      "2  0.218100  \n",
      "3  0.748372  \n",
      "4  0.215649  \n",
      "(384, 4)\n"
     ]
    }
   ],
   "source": [
    "gcn_prob = load_probas_from_csv('predictions/gcn_proba.csv')\n",
    "reg_prob = load_probas_from_csv('predictions/reg_log_proba.csv')\n",
    "xgb_prob = load_probas_from_csv('predictions/xgb_proba.csv')\n",
    "\n",
    "\n",
    "probas_df = gcn_prob.merge(reg_prob, on='smiles').merge(xgb_prob, on='smiles')\n",
    "probas_df.columns = ['smiles', 'gcn_prob', 'reg_prob', 'xgb_prob']\n",
    "\n",
    "print(probas_df.head())\n",
    "print(probas_df.shape)"
   ]
  },
  {
   "cell_type": "code",
   "execution_count": 5,
   "id": "65513a7c",
   "metadata": {},
   "outputs": [
    {
     "name": "stdout",
     "output_type": "stream",
     "text": [
      "Predictions shape: (384,)\n",
      "Predictions: [0 0 1 1 0 0 1 1 1 0]\n",
      "Labels shape: (1507,)\n",
      "Labels: [0 0 0 0 0 1 0 1 1 1]\n",
      "\n",
      "\n",
      "Classification Report:\n",
      "========================================\n"
     ]
    },
    {
     "ename": "ValueError",
     "evalue": "Found input variables with inconsistent numbers of samples: [1507, 384]",
     "output_type": "error",
     "traceback": [
      "\u001b[1;31m---------------------------------------------------------------------------\u001b[0m",
      "\u001b[1;31mValueError\u001b[0m                                Traceback (most recent call last)",
      "Cell \u001b[1;32mIn[5], line 17\u001b[0m\n\u001b[0;32m     15\u001b[0m \u001b[38;5;28mprint\u001b[39m(\u001b[38;5;124m\"\u001b[39m\u001b[38;5;130;01m\\n\u001b[39;00m\u001b[38;5;130;01m\\n\u001b[39;00m\u001b[38;5;124mClassification Report:\u001b[39m\u001b[38;5;124m\"\u001b[39m)\n\u001b[0;32m     16\u001b[0m \u001b[38;5;28mprint\u001b[39m(\u001b[38;5;124m\"\u001b[39m\u001b[38;5;124m========================================\u001b[39m\u001b[38;5;124m\"\u001b[39m)\n\u001b[1;32m---> 17\u001b[0m \u001b[38;5;28mprint\u001b[39m(\u001b[43mclassification_report\u001b[49m\u001b[43m(\u001b[49m\u001b[43my_test\u001b[49m\u001b[43m,\u001b[49m\u001b[43m \u001b[49m\u001b[43my_pred\u001b[49m\u001b[43m,\u001b[49m\u001b[43m \u001b[49m\u001b[43mtarget_names\u001b[49m\u001b[38;5;241;43m=\u001b[39;49m\u001b[43m[\u001b[49m\u001b[38;5;124;43m'\u001b[39;49m\u001b[38;5;124;43mClass 0\u001b[39;49m\u001b[38;5;124;43m'\u001b[39;49m\u001b[43m,\u001b[49m\u001b[43m \u001b[49m\u001b[38;5;124;43m'\u001b[39;49m\u001b[38;5;124;43mClass 1\u001b[39;49m\u001b[38;5;124;43m'\u001b[39;49m\u001b[43m]\u001b[49m\u001b[43m,\u001b[49m\u001b[43m \u001b[49m\u001b[43mdigits\u001b[49m\u001b[38;5;241;43m=\u001b[39;49m\u001b[38;5;241;43m4\u001b[39;49m\u001b[43m)\u001b[49m)\n\u001b[0;32m     20\u001b[0m kappa_score \u001b[38;5;241m=\u001b[39m cohen_kappa_score(y_pred, y_test)\n\u001b[0;32m     21\u001b[0m \u001b[38;5;28mprint\u001b[39m(\u001b[38;5;124mf\u001b[39m\u001b[38;5;124m\"\u001b[39m\u001b[38;5;124mCohen\u001b[39m\u001b[38;5;124m'\u001b[39m\u001b[38;5;124ms Kappa Score: \u001b[39m\u001b[38;5;132;01m{\u001b[39;00mkappa_score\u001b[38;5;132;01m}\u001b[39;00m\u001b[38;5;124m\"\u001b[39m)\n",
      "File \u001b[1;32mc:\\Users\\nonoa\\.pyenv\\pyenv-win\\versions\\3.12.8\\Lib\\site-packages\\sklearn\\utils\\_param_validation.py:216\u001b[0m, in \u001b[0;36mvalidate_params.<locals>.decorator.<locals>.wrapper\u001b[1;34m(*args, **kwargs)\u001b[0m\n\u001b[0;32m    210\u001b[0m \u001b[38;5;28;01mtry\u001b[39;00m:\n\u001b[0;32m    211\u001b[0m     \u001b[38;5;28;01mwith\u001b[39;00m config_context(\n\u001b[0;32m    212\u001b[0m         skip_parameter_validation\u001b[38;5;241m=\u001b[39m(\n\u001b[0;32m    213\u001b[0m             prefer_skip_nested_validation \u001b[38;5;129;01mor\u001b[39;00m global_skip_validation\n\u001b[0;32m    214\u001b[0m         )\n\u001b[0;32m    215\u001b[0m     ):\n\u001b[1;32m--> 216\u001b[0m         \u001b[38;5;28;01mreturn\u001b[39;00m \u001b[43mfunc\u001b[49m\u001b[43m(\u001b[49m\u001b[38;5;241;43m*\u001b[39;49m\u001b[43margs\u001b[49m\u001b[43m,\u001b[49m\u001b[43m \u001b[49m\u001b[38;5;241;43m*\u001b[39;49m\u001b[38;5;241;43m*\u001b[39;49m\u001b[43mkwargs\u001b[49m\u001b[43m)\u001b[49m\n\u001b[0;32m    217\u001b[0m \u001b[38;5;28;01mexcept\u001b[39;00m InvalidParameterError \u001b[38;5;28;01mas\u001b[39;00m e:\n\u001b[0;32m    218\u001b[0m     \u001b[38;5;66;03m# When the function is just a wrapper around an estimator, we allow\u001b[39;00m\n\u001b[0;32m    219\u001b[0m     \u001b[38;5;66;03m# the function to delegate validation to the estimator, but we replace\u001b[39;00m\n\u001b[0;32m    220\u001b[0m     \u001b[38;5;66;03m# the name of the estimator by the name of the function in the error\u001b[39;00m\n\u001b[0;32m    221\u001b[0m     \u001b[38;5;66;03m# message to avoid confusion.\u001b[39;00m\n\u001b[0;32m    222\u001b[0m     msg \u001b[38;5;241m=\u001b[39m re\u001b[38;5;241m.\u001b[39msub(\n\u001b[0;32m    223\u001b[0m         \u001b[38;5;124mr\u001b[39m\u001b[38;5;124m\"\u001b[39m\u001b[38;5;124mparameter of \u001b[39m\u001b[38;5;124m\\\u001b[39m\u001b[38;5;124mw+ must be\u001b[39m\u001b[38;5;124m\"\u001b[39m,\n\u001b[0;32m    224\u001b[0m         \u001b[38;5;124mf\u001b[39m\u001b[38;5;124m\"\u001b[39m\u001b[38;5;124mparameter of \u001b[39m\u001b[38;5;132;01m{\u001b[39;00mfunc\u001b[38;5;241m.\u001b[39m\u001b[38;5;18m__qualname__\u001b[39m\u001b[38;5;132;01m}\u001b[39;00m\u001b[38;5;124m must be\u001b[39m\u001b[38;5;124m\"\u001b[39m,\n\u001b[0;32m    225\u001b[0m         \u001b[38;5;28mstr\u001b[39m(e),\n\u001b[0;32m    226\u001b[0m     )\n",
      "File \u001b[1;32mc:\\Users\\nonoa\\.pyenv\\pyenv-win\\versions\\3.12.8\\Lib\\site-packages\\sklearn\\metrics\\_classification.py:2671\u001b[0m, in \u001b[0;36mclassification_report\u001b[1;34m(y_true, y_pred, labels, target_names, sample_weight, digits, output_dict, zero_division)\u001b[0m\n\u001b[0;32m   2563\u001b[0m \u001b[38;5;250m\u001b[39m\u001b[38;5;124;03m\"\"\"Build a text report showing the main classification metrics.\u001b[39;00m\n\u001b[0;32m   2564\u001b[0m \n\u001b[0;32m   2565\u001b[0m \u001b[38;5;124;03mRead more in the :ref:`User Guide <classification_report>`.\u001b[39;00m\n\u001b[1;32m   (...)\u001b[0m\n\u001b[0;32m   2667\u001b[0m \u001b[38;5;124;03m<BLANKLINE>\u001b[39;00m\n\u001b[0;32m   2668\u001b[0m \u001b[38;5;124;03m\"\"\"\u001b[39;00m\n\u001b[0;32m   2670\u001b[0m y_true, y_pred \u001b[38;5;241m=\u001b[39m attach_unique(y_true, y_pred)\n\u001b[1;32m-> 2671\u001b[0m y_type, y_true, y_pred \u001b[38;5;241m=\u001b[39m \u001b[43m_check_targets\u001b[49m\u001b[43m(\u001b[49m\u001b[43my_true\u001b[49m\u001b[43m,\u001b[49m\u001b[43m \u001b[49m\u001b[43my_pred\u001b[49m\u001b[43m)\u001b[49m\n\u001b[0;32m   2673\u001b[0m \u001b[38;5;28;01mif\u001b[39;00m labels \u001b[38;5;129;01mis\u001b[39;00m \u001b[38;5;28;01mNone\u001b[39;00m:\n\u001b[0;32m   2674\u001b[0m     labels \u001b[38;5;241m=\u001b[39m unique_labels(y_true, y_pred)\n",
      "File \u001b[1;32mc:\\Users\\nonoa\\.pyenv\\pyenv-win\\versions\\3.12.8\\Lib\\site-packages\\sklearn\\metrics\\_classification.py:98\u001b[0m, in \u001b[0;36m_check_targets\u001b[1;34m(y_true, y_pred)\u001b[0m\n\u001b[0;32m     71\u001b[0m \u001b[38;5;250m\u001b[39m\u001b[38;5;124;03m\"\"\"Check that y_true and y_pred belong to the same classification task.\u001b[39;00m\n\u001b[0;32m     72\u001b[0m \n\u001b[0;32m     73\u001b[0m \u001b[38;5;124;03mThis converts multiclass or binary types to a common shape, and raises a\u001b[39;00m\n\u001b[1;32m   (...)\u001b[0m\n\u001b[0;32m     95\u001b[0m \u001b[38;5;124;03my_pred : array or indicator matrix\u001b[39;00m\n\u001b[0;32m     96\u001b[0m \u001b[38;5;124;03m\"\"\"\u001b[39;00m\n\u001b[0;32m     97\u001b[0m xp, _ \u001b[38;5;241m=\u001b[39m get_namespace(y_true, y_pred)\n\u001b[1;32m---> 98\u001b[0m \u001b[43mcheck_consistent_length\u001b[49m\u001b[43m(\u001b[49m\u001b[43my_true\u001b[49m\u001b[43m,\u001b[49m\u001b[43m \u001b[49m\u001b[43my_pred\u001b[49m\u001b[43m)\u001b[49m\n\u001b[0;32m     99\u001b[0m type_true \u001b[38;5;241m=\u001b[39m type_of_target(y_true, input_name\u001b[38;5;241m=\u001b[39m\u001b[38;5;124m\"\u001b[39m\u001b[38;5;124my_true\u001b[39m\u001b[38;5;124m\"\u001b[39m)\n\u001b[0;32m    100\u001b[0m type_pred \u001b[38;5;241m=\u001b[39m type_of_target(y_pred, input_name\u001b[38;5;241m=\u001b[39m\u001b[38;5;124m\"\u001b[39m\u001b[38;5;124my_pred\u001b[39m\u001b[38;5;124m\"\u001b[39m)\n",
      "File \u001b[1;32mc:\\Users\\nonoa\\.pyenv\\pyenv-win\\versions\\3.12.8\\Lib\\site-packages\\sklearn\\utils\\validation.py:475\u001b[0m, in \u001b[0;36mcheck_consistent_length\u001b[1;34m(*arrays)\u001b[0m\n\u001b[0;32m    473\u001b[0m uniques \u001b[38;5;241m=\u001b[39m np\u001b[38;5;241m.\u001b[39munique(lengths)\n\u001b[0;32m    474\u001b[0m \u001b[38;5;28;01mif\u001b[39;00m \u001b[38;5;28mlen\u001b[39m(uniques) \u001b[38;5;241m>\u001b[39m \u001b[38;5;241m1\u001b[39m:\n\u001b[1;32m--> 475\u001b[0m     \u001b[38;5;28;01mraise\u001b[39;00m \u001b[38;5;167;01mValueError\u001b[39;00m(\n\u001b[0;32m    476\u001b[0m         \u001b[38;5;124m\"\u001b[39m\u001b[38;5;124mFound input variables with inconsistent numbers of samples: \u001b[39m\u001b[38;5;132;01m%r\u001b[39;00m\u001b[38;5;124m\"\u001b[39m\n\u001b[0;32m    477\u001b[0m         \u001b[38;5;241m%\u001b[39m [\u001b[38;5;28mint\u001b[39m(l) \u001b[38;5;28;01mfor\u001b[39;00m l \u001b[38;5;129;01min\u001b[39;00m lengths]\n\u001b[0;32m    478\u001b[0m     )\n",
      "\u001b[1;31mValueError\u001b[0m: Found input variables with inconsistent numbers of samples: [1507, 384]"
     ]
    }
   ],
   "source": [
    "X = probas_df[['gcn_prob', 'reg_prob', 'xgb_prob']].values\n",
    "y_pred = (np.mean(X, axis=1) > .5).astype(int)\n",
    "\n",
    "print(f\"Predictions shape: {y_pred.shape}\")\n",
    "print(f\"Predictions: {y_pred[:10]}\")\n",
    "\n",
    "\n",
    "\n",
    "_,  y_test = train_test_split(labels, test_size=0.2, random_state=42, stratify=labels)\n",
    "\n",
    "y_test = y_test.values\n",
    "print(f\"Labels shape: {y_test.shape}\")\n",
    "print(f\"Labels: {y_test[:10]}\")\n",
    "\n",
    "print(\"\\n\\nClassification Report:\")\n",
    "print(\"========================================\")\n",
    "print(classification_report(y_test, y_pred, target_names=['Class 0', 'Class 1'], digits=4))\n",
    "\n",
    "\n",
    "kappa_score = cohen_kappa_score(y_pred, y_test)\n",
    "print(f\"Cohen's Kappa Score: {kappa_score}\")\n",
    "\n",
    "\n",
    "# Calculer et afficher la matrice de confusion\n",
    "cm = confusion_matrix(y_test, y_pred)\n",
    "disp = ConfusionMatrixDisplay(confusion_matrix=cm)\n",
    "disp.plot(cmap=plt.cm.Blues)\n",
    "plt.title('Matrice de Confusion')\n",
    "plt.show()\n"
   ]
  },
  {
   "cell_type": "code",
   "execution_count": null,
   "id": "c81de786",
   "metadata": {},
   "outputs": [],
   "source": [
    "def save_to_csv(df, file_path):\n",
    "    \"\"\"\n",
    "    Saves a DataFrame to a CSV file.\n",
    "    \"\"\"\n",
    "    try:\n",
    "        df.to_csv(file_path, index=False)\n",
    "        print(f\"Data saved to {file_path}\")\n",
    "    except Exception as e:\n",
    "        print(f\"Error saving DataFrame to CSV: {e}\")"
   ]
  },
  {
   "cell_type": "code",
   "execution_count": null,
   "id": "bf144c5b",
   "metadata": {},
   "outputs": [
    {
     "name": "stdout",
     "output_type": "stream",
     "text": [
      "Meta X shape: (9415, 4)\n",
      "Meta X head:\n",
      "   gcn_prob  reg_prob  xgb_prob  class\n",
      "0  0.168103  0.096144  0.067245      0\n",
      "1  0.022399  0.023414  0.092872      0\n",
      "2  0.429374  0.706475  0.846492      1\n",
      "3  0.960706  0.984383  0.978015      1\n",
      "4  0.804549  0.941262  0.987505      0\n"
     ]
    }
   ],
   "source": [
    "meta_X = pd.concat([probas_df[['gcn_prob', 'reg_prob', 'xgb_prob']], labels], axis=1)\n",
    "print(f\"Meta X shape: {meta_X.shape}\")\n",
    "print(f\"Meta X head:\\n{meta_X.head()}\")"
   ]
  },
  {
   "cell_type": "code",
   "execution_count": null,
   "id": "67e4c73a",
   "metadata": {},
   "outputs": [
    {
     "name": "stdout",
     "output_type": "stream",
     "text": [
      "Data saved to data/probas.csv\n"
     ]
    }
   ],
   "source": [
    "save_to_csv(meta_X, 'data/probas.csv')"
   ]
  },
  {
   "cell_type": "markdown",
   "id": "5b49c90e",
   "metadata": {},
   "source": [
    "## LGBM fingerprints"
   ]
  },
  {
   "cell_type": "code",
   "execution_count": null,
   "id": "49e65f83",
   "metadata": {},
   "outputs": [
    {
     "name": "stdout",
     "output_type": "stream",
     "text": [
      "                                              smiles  gcn_prob  lgb_prob  \\\n",
      "0   O=C(O)C1(F)CCN(C2CCC3(Cc4ccccc4Cc4ccccc43)C2)CC1  0.168103  0.036781   \n",
      "1  Cc1nc2ccccc2n1C1CC2CCC(C1)N2CCC1(c2ccccc2)CCN(...  0.022399  0.021694   \n",
      "2  NC1(C(=O)NC(c2ccc(Cl)cc2)C2CC2)CCN(c2ncnc3[nH]...  0.429374  0.877608   \n",
      "3  CC(c1ccc(OCCCN2CCC(c3noc4cc(F)ccc34)CC2)cc1)c1...  0.960706  0.995049   \n",
      "4               C(CN1CCCCCC1)=C1CCCc2c1cnn2-c1ccccc1  0.804549  0.992333   \n",
      "\n",
      "   xgb_prob  \n",
      "0  0.067245  \n",
      "1  0.092872  \n",
      "2  0.846492  \n",
      "3  0.978015  \n",
      "4  0.987505  \n",
      "(1883, 4)\n"
     ]
    }
   ],
   "source": [
    "gcn_prob = load_probas_from_csv('predictions/gcn_proba.csv')\n",
    "lgb_prob = load_probas_from_csv('predictions/lgbm_proba.csv')\n",
    "xgb_prob = load_probas_from_csv('predictions/xgb_proba.csv')\n",
    "\n",
    "\n",
    "probas_df = gcn_prob.merge(lgb_prob, on='smiles').merge(xgb_prob, on='smiles')\n",
    "probas_df.columns = ['smiles', 'gcn_prob', 'lgb_prob', 'xgb_prob']\n",
    "\n",
    "print(probas_df.head())\n",
    "print(probas_df.shape)"
   ]
  },
  {
   "cell_type": "code",
   "execution_count": null,
   "id": "1e66f5d1",
   "metadata": {},
   "outputs": [
    {
     "name": "stdout",
     "output_type": "stream",
     "text": [
      "Predictions shape: (1883,)\n",
      "Predictions: [0 0 1 1 1 0 0 1 1 1]\n",
      "Labels shape: (1883,)\n",
      "Labels: [0 0 1 1 1 0 0 1 1 1]\n",
      "\n",
      "\n",
      "Classification Report:\n",
      "========================================\n",
      "              precision    recall  f1-score   support\n",
      "\n",
      "     Class 0     0.8940    0.8804    0.8872       920\n",
      "     Class 1     0.8874    0.9003    0.8938       963\n",
      "\n",
      "    accuracy                         0.8906      1883\n",
      "   macro avg     0.8907    0.8904    0.8905      1883\n",
      "weighted avg     0.8906    0.8906    0.8906      1883\n",
      "\n",
      "Cohen's Kappa Score: 0.7810116534693375\n"
     ]
    },
    {
     "data": {
      "image/png": "[encoded data removed]",
      "text/plain": [
       "<Figure size 640x480 with 2 Axes>"
      ]
     },
     "metadata": {},
     "output_type": "display_data"
    }
   ],
   "source": [
    "X = probas_df[['gcn_prob', 'lgb_prob', 'xgb_prob']].values\n",
    "y_pred = (np.mean(X, axis=1) > .5).astype(int)\n",
    "\n",
    "print(f\"Predictions shape: {y_pred.shape}\")\n",
    "print(f\"Predictions: {y_pred[:10]}\")\n",
    "\n",
    "\n",
    "\n",
    "_,  y_test = train_test_split(labels, test_size=0.2, random_state=42, stratify=labels)\n",
    "\n",
    "y_test = y_test.values\n",
    "print(f\"Labels shape: {y_test.shape}\")\n",
    "print(f\"Labels: {y_test[:10]}\")\n",
    "\n",
    "print(\"\\n\\nClassification Report:\")\n",
    "print(\"========================================\")\n",
    "print(classification_report(y_test, y_pred, target_names=['Class 0', 'Class 1'], digits=4))\n",
    "\n",
    "\n",
    "kappa_score = cohen_kappa_score(y_pred, y_test)\n",
    "print(f\"Cohen's Kappa Score: {kappa_score}\")\n",
    "\n",
    "\n",
    "# Calculer et afficher la matrice de confusion\n",
    "cm = confusion_matrix(y_test, y_pred)\n",
    "disp = ConfusionMatrixDisplay(confusion_matrix=cm)\n",
    "disp.plot(cmap=plt.cm.Blues)\n",
    "plt.title('Matrice de Confusion')\n",
    "plt.show()\n"
   ]
  },
  {
   "cell_type": "markdown",
   "id": "3887c2e3",
   "metadata": {},
   "source": [
    "## RF Fingerprints (retenu pour la première prédiction)"
   ]
  },
  {
   "cell_type": "code",
   "execution_count": null,
   "id": "710bd418",
   "metadata": {},
   "outputs": [
    {
     "name": "stdout",
     "output_type": "stream",
     "text": [
      "                                              smiles  gcn_prob   rf_prob  \\\n",
      "0  O=C(O)C(Cc1ccccc1)N1CCC(CN2CCC(Oc3ccc(CO)c(Cl)...  0.030622  0.155556   \n",
      "1  CN1CCN(CCCn2nc(C3=C(c4cn(-c5ccc6ccccc6c5)c5ccc...  0.931967  0.915556   \n",
      "2  OCC1(N2CCN(C3CCc4ccc(OCc5noc(-c6ccc(Cl)cc6)n5)...  0.957408  0.853333   \n",
      "3  CCn1c(=O)oc2ccc(-c3ccc(CC(C#N)NC(=O)C4CNCCCO4)...  0.089505  0.097778   \n",
      "4  O=C(C1CC1c1ccc(C(F)(F)F)cc1)N1CCN(S(=O)(=O)c2c...  0.940113  0.933333   \n",
      "\n",
      "   xgb_prob  smiles_prob  \n",
      "0  0.049748     0.041841  \n",
      "1  0.918788     0.467382  \n",
      "2  0.921973     0.946834  \n",
      "3  0.088541     0.087658  \n",
      "4  0.978391     0.954703  \n",
      "(1883, 5)\n"
     ]
    }
   ],
   "source": [
    "gcn_prob = load_probas_from_csv('predictions/gcn_proba.csv')\n",
    "rf_prob = load_probas_from_csv('predictions/rf_proba.csv')\n",
    "xgb_prob = load_probas_from_csv('predictions/xgb_proba.csv')\n",
    "smiles_prob = load_probas_from_csv('predictions/smiles_proba.csv')\n",
    "\n",
    "\n",
    "probas_df = gcn_prob.merge(rf_prob, on='smiles').merge(xgb_prob, on='smiles').merge(smiles_prob, on='smiles')\n",
    "probas_df.columns = ['smiles', 'gcn_prob', 'rf_prob', 'xgb_prob', 'smiles_prob']\n",
    "\n",
    "print(probas_df.head())\n",
    "print(probas_df.shape)"
   ]
  },
  {
   "cell_type": "code",
   "execution_count": null,
   "id": "cb71f65a",
   "metadata": {},
   "outputs": [
    {
     "name": "stdout",
     "output_type": "stream",
     "text": [
      "Predictions shape: (1883,)\n",
      "Labels shape: (1883,)\n",
      "\n",
      "\n",
      "Classification Report:\n",
      "========================================\n",
      "              precision    recall  f1-score   support\n",
      "\n",
      "     Class 0     0.7919    0.8308    0.8109       916\n",
      "     Class 1     0.8319    0.7932    0.8121       967\n",
      "\n",
      "    accuracy                         0.8115      1883\n",
      "   macro avg     0.8119    0.8120    0.8115      1883\n",
      "weighted avg     0.8124    0.8115    0.8115      1883\n",
      "\n",
      "Cohen's Kappa Score: 0.6231535105497172\n"
     ]
    },
    {
     "data": {
      "image/png": "[encoded data removed]",
      "text/plain": [
       "<Figure size 640x480 with 2 Axes>"
      ]
     },
     "metadata": {},
     "output_type": "display_data"
    }
   ],
   "source": [
    "X = probas_df[['gcn_prob', 'rf_prob', 'xgb_prob', 'smiles_prob']].values\n",
    "y_pred_proba = np.mean(X, axis=1)\n",
    "y_pred = (y_pred_proba > .5).astype(int)\n",
    "\n",
    "print(f\"Predictions shape: {y_pred.shape}\")\n",
    "# print(f\"Predictions: {y_pred[:10]}\")\n",
    "\n",
    "\n",
    "y_test = labels_test.values\n",
    "\n",
    "print(f\"Labels shape: {y_test.shape}\")\n",
    "# print(f\"Labels: {y_test[:10]}\")\n",
    "\n",
    "print(\"\\n\\nClassification Report:\")\n",
    "print(\"========================================\")\n",
    "print(classification_report(y_test, y_pred, target_names=['Class 0', 'Class 1'], digits=4))\n",
    "\n",
    "\n",
    "kappa_score = cohen_kappa_score(y_pred, y_test)\n",
    "print(f\"Cohen's Kappa Score: {kappa_score}\")\n",
    "\n",
    "\n",
    "# Calculer et afficher la matrice de confusion\n",
    "cm = confusion_matrix(y_test, y_pred)\n",
    "disp = ConfusionMatrixDisplay(confusion_matrix=cm)\n",
    "disp.plot(cmap=plt.cm.Blues)\n",
    "plt.title('Matrice de Confusion')\n",
    "plt.show()\n"
   ]
  },
  {
   "cell_type": "markdown",
   "id": "f1e31c1c",
   "metadata": {},
   "source": [
    "### Trier les 200 premiers en fonctions de la confiance"
   ]
  },
  {
   "cell_type": "code",
   "execution_count": null,
   "id": "21647daa",
   "metadata": {},
   "outputs": [
    {
     "name": "stdout",
     "output_type": "stream",
     "text": [
      "                                                smiles      diff  pred  true\n",
      "317  Cc1ncoc1-c1nnc(SCCCN2CC3CC3(c3cccc(OC(F)(F)F)c...  0.004726     1     1\n",
      "282  Cn1c(CCCCN2CC3CC3(c3ccc(C(F)(F)F)cc3)C2)nnc1-c...  0.005418     1     1\n",
      "308  Cc1ncoc1-c1nnc(SCCCN2CCC3(CC3c3ccccc3C(F)(F)F)...  0.006625     1     1\n",
      "146  Cc1ccc2c(-c3nnc(SCCCN4CCc5ccc6oc(C(F)(F)C(F)(F...  0.007342     1     1\n",
      "370  Cn1c(SCCCN2CC3CCN(c4ccc(C(F)(F)F)cc4)C3C2)nnc1...  0.007793     1     1\n",
      "..                                                 ...       ...   ...   ...\n",
      "206  Fc1ccc(OCc2cc(OCC3(F)COC3)nc(-c3ccccn3)n2)c(F)c1F  0.491786     0     1\n",
      "64        O=C(C1CC(Oc2cccc(Cl)c2)CN1)N1CCCN(C2CCC2)CC1  0.492694     0     1\n",
      "286  Nc1ccc(-c2cccs2)cc1NC(=O)c1ccc(C(=O)N2CCC3(CCC...  0.496466     0     0\n",
      "105  Cc1noc(C2CC2C(=O)NCc2ccc(-c3cccc(OC(F)(F)F)c3)...  0.497326     1     1\n",
      "337  CCNC(=O)Nc1cccc(CNc2cc(C(F)(F)F)cc3ncc(N4CCN(C...  0.497381     1     0\n",
      "\n",
      "[372 rows x 4 columns]\n",
      "\n",
      "\n",
      "Classification Report:\n",
      "========================================\n",
      "              precision    recall  f1-score   support\n",
      "\n",
      "     Class 0     0.9880    1.0000    0.9939        82\n",
      "     Class 1     1.0000    0.9915    0.9957       118\n",
      "\n",
      "    accuracy                         0.9950       200\n",
      "   macro avg     0.9940    0.9958    0.9948       200\n",
      "weighted avg     0.9951    0.9950    0.9950       200\n",
      "\n",
      "Cohen's Kappa Score: 0.989684340829379\n"
     ]
    },
    {
     "data": {
      "image/png": "[encoded data removed]",
      "text/plain": [
       "<Figure size 640x480 with 2 Axes>"
      ]
     },
     "metadata": {},
     "output_type": "display_data"
    }
   ],
   "source": [
    "y_dist = pd.DataFrame({\n",
    "    'smiles': probas_df['smiles'],\n",
    "    'diff': np.abs(y_pred_proba - y_pred),\n",
    "    'pred': y_pred,\n",
    "    'true': y_test\n",
    "})\n",
    "\n",
    "# Trier le DataFrame par ordre croissant des différences\n",
    "y_dist_sorted = y_dist.sort_values(by='diff')\n",
    "\n",
    "# Afficher le DataFrame trié\n",
    "print(y_dist_sorted)\n",
    "\n",
    "y_pred_200 = y_dist_sorted['pred'].head(200).values\n",
    "\n",
    "y_test_200 = y_dist_sorted['true'].head(200).values\n",
    "\n",
    "\n",
    "print(\"\\n\\nClassification Report:\")\n",
    "print(\"========================================\")\n",
    "print(classification_report(y_pred=y_pred_200, y_true=y_test_200, target_names=['Class 0', 'Class 1'], digits=4))\n",
    "\n",
    "\n",
    "kappa_score = cohen_kappa_score(y_pred_200, y_test_200)\n",
    "print(f\"Cohen's Kappa Score: {kappa_score}\")\n",
    "\n",
    "\n",
    "# Calculer et afficher la matrice de confusion\n",
    "cm = confusion_matrix(y_test_200, y_pred_200)\n",
    "disp = ConfusionMatrixDisplay(confusion_matrix=cm)\n",
    "disp.plot(cmap=plt.cm.Blues)\n",
    "plt.title('Matrice de Confusion')\n",
    "plt.show()\n",
    "\n"
   ]
  },
  {
   "cell_type": "markdown",
   "id": "f3869c9c",
   "metadata": {},
   "source": [
    "# Modèle d'ensemble"
   ]
  },
  {
   "cell_type": "code",
   "execution_count": null,
   "id": "15bac8a2",
   "metadata": {},
   "outputs": [
    {
     "name": "stdout",
     "output_type": "stream",
     "text": [
      "                                              smiles  gcn_prob  ensemble_prob\n",
      "0   O=C(O)C1(F)CCN(C2CCC3(Cc4ccccc4Cc4ccccc43)C2)CC1  0.168103       0.059032\n",
      "1  Cc1nc2ccccc2n1C1CC2CCC(C1)N2CCC1(c2ccccc2)CCN(...  0.022399       0.780465\n",
      "2  NC1(C(=O)NC(c2ccc(Cl)cc2)C2CC2)CCN(c2ncnc3[nH]...  0.429374       0.840491\n",
      "3  CC(c1ccc(OCCCN2CCC(c3noc4cc(F)ccc34)CC2)cc1)c1...  0.960706       0.141522\n",
      "4               C(CN1CCCCCC1)=C1CCCc2c1cnn2-c1ccccc1  0.804549       0.787759\n",
      "(1883, 3)\n"
     ]
    }
   ],
   "source": [
    "gcn_prob = load_probas_from_csv('predictions/gcn_proba.csv')\n",
    "ensemble_prob = load_probas_from_csv('predictions/ensemble_proba.csv')\n",
    "\n",
    "\n",
    "probas_df = gcn_prob.merge(ensemble_prob, on='smiles')\n",
    "probas_df.columns = ['smiles', 'gcn_prob', 'ensemble_prob']\n",
    "\n",
    "print(probas_df.head())\n",
    "print(probas_df.shape)"
   ]
  },
  {
   "cell_type": "code",
   "execution_count": null,
   "id": "6f1c88a8",
   "metadata": {},
   "outputs": [
    {
     "name": "stdout",
     "output_type": "stream",
     "text": [
      "Predictions shape: (1883,)\n",
      "Predictions: [0 0 1 1 1]\n",
      "Labels shape: (1883,)\n",
      "Labels: 8398    0\n",
      "6219    0\n",
      "7472    1\n",
      "1104    1\n",
      "36      1\n",
      "Name: class, dtype: int64\n"
     ]
    }
   ],
   "source": [
    "X = probas_df[['gcn_prob', 'ensemble_prob']].values\n",
    "y_pred = (np.mean(X, axis=1) > .5).astype(int)\n",
    "\n",
    "print(f\"Predictions shape: {y_pred.shape}\")\n",
    "print(f\"Predictions: {y_pred[:5]}\")\n",
    "\n",
    "\n",
    "\n",
    "_,  y_test = train_test_split(labels, test_size=0.2, random_state=42, stratify=labels)\n",
    "\n",
    "print(f\"Labels shape: {y_test.shape}\")\n",
    "print(f\"Labels: {y_test[:5]}\")\n",
    "\n",
    "\n"
   ]
  },
  {
   "cell_type": "code",
   "execution_count": null,
   "id": "05e96e7b",
   "metadata": {},
   "outputs": [
    {
     "name": "stdout",
     "output_type": "stream",
     "text": [
      "0.7068507700477961\n"
     ]
    }
   ],
   "source": [
    "print(np.mean(y_pred == y_test))"
   ]
  },
  {
   "cell_type": "code",
   "execution_count": null,
   "id": "05a4c0bb",
   "metadata": {},
   "outputs": [
    {
     "name": "stdout",
     "output_type": "stream",
     "text": [
      "Cohen's Kappa Score: 0.4124831559241406\n"
     ]
    }
   ],
   "source": [
    "\n",
    "kappa_score = cohen_kappa_score(y_pred, y_test.values)\n",
    "print(f\"Cohen's Kappa Score: {kappa_score}\")"
   ]
  },
  {
   "cell_type": "code",
   "execution_count": null,
   "id": "26f21fca",
   "metadata": {},
   "outputs": [
    {
     "data": {
      "image/png": "[encoded data removed]",
      "text/plain": [
       "<Figure size 640x480 with 2 Axes>"
      ]
     },
     "metadata": {},
     "output_type": "display_data"
    }
   ],
   "source": [
    "# Calculer et afficher la matrice de confusion\n",
    "cm = confusion_matrix(y_test, y_pred)\n",
    "disp = ConfusionMatrixDisplay(confusion_matrix=cm)\n",
    "disp.plot(cmap=plt.cm.Blues)\n",
    "plt.title('Matrice de Confusion')\n",
    "plt.show()"
   ]
  },
  {
   "cell_type": "markdown",
   "id": "ccb627c3",
   "metadata": {},
   "source": [
    "# TEST 1"
   ]
  },
  {
   "cell_type": "code",
   "execution_count": null,
   "id": "10542985",
   "metadata": {},
   "outputs": [
    {
     "name": "stdout",
     "output_type": "stream",
     "text": [
      "                                              smiles   rf_prob  xgb_prob  \\\n",
      "0                      Brc1cccc2nc(C#Cc3ccccn3)ccc12  0.217778  0.155712   \n",
      "1           C#CC1(O)CCC2C3CCC4=CC(=O)CCC4(C)C3CCC21C  0.084444  0.053324   \n",
      "2  C#CC1CCC(C#N)N1C(=O)CNC1(C)CCN(c2cc(C(=O)O)ccn...  0.168889  0.014513   \n",
      "3                    C#CCN(C)CC1=Cc2ccccc2Oc2ccccc21  0.697778  0.627047   \n",
      "4  C#Cc1cc(-c2n[nH]c3c2Cc2cc(CN4CCN(C)CC4)ccc2-3)cs1  0.857778  0.767996   \n",
      "\n",
      "   smiles_prob  \n",
      "0     0.264284  \n",
      "1     0.071598  \n",
      "2     0.031477  \n",
      "3     0.834898  \n",
      "4     0.877097  \n",
      "(750, 4)\n"
     ]
    }
   ],
   "source": [
    "# gcn_prob = load_probas_from_csv('predictions/gcn_proba_test_1.csv') # il ne sera pas retenu car smiles a de meilleurs résultats\n",
    "rf_prob = load_probas_from_csv('predictions/rf_proba_test_1.csv')\n",
    "xgb_prob = load_probas_from_csv('predictions/xgb_proba_test_1.csv')\n",
    "smiles_prob = load_probas_from_csv('predictions/smiles_proba_test_1.csv')\n",
    "\n",
    "\n",
    "probas_df = rf_prob.merge(xgb_prob, on='smiles').merge(smiles_prob, on='smiles')\n",
    "probas_df.columns = ['smiles', 'rf_prob', 'xgb_prob', 'smiles_prob']\n",
    "\n",
    "print(probas_df.head())\n",
    "print(probas_df.shape)"
   ]
  },
  {
   "cell_type": "code",
   "execution_count": null,
   "id": "2909bb23",
   "metadata": {},
   "outputs": [
    {
     "name": "stdout",
     "output_type": "stream",
     "text": [
      "Predictions shape: (750,)\n",
      "Predictions: [0 0 0 1 1 0 1 0 0 1]\n",
      "Predictions proba: [0.21259108 0.06978893 0.07162645 0.71990753 0.83429033 0.47187415\n",
      " 0.803932   0.31427094 0.26089681 0.70720121]\n"
     ]
    }
   ],
   "source": [
    "X = probas_df[['rf_prob', 'xgb_prob', 'smiles_prob']].values\n",
    "y_pred_proba = np.mean(X, axis=1)\n",
    "y_pred = (y_pred_proba > .5).astype(int)\n",
    "\n",
    "print(f\"Predictions shape: {y_pred.shape}\")\n",
    "print(f\"Predictions: {y_pred[:10]}\")\n",
    "print(f\"Predictions proba: {y_pred_proba[:10]}\")\n",
    "\n"
   ]
  },
  {
   "cell_type": "code",
   "execution_count": null,
   "id": "8095d0af",
   "metadata": {},
   "outputs": [
    {
     "name": "stdout",
     "output_type": "stream",
     "text": [
      "                                                smiles  class\n",
      "246  CN(CCOc1ccc([N+](=O)[O-])cc1)CCc1ccc([N+](=O)[...      1\n",
      "156                         CCCCN(CC)CC#CCCc1ccc(C)cc1      1\n",
      "520     Fc1ccc2cccc(N3CCN(CCCOc4ccc5c(c4)CNC5)CC3)c2c1      1\n",
      "541           N#Cc1ccc(CCN2CCN(CCc3ccc(C#N)cc3)CC2)cc1      1\n",
      "431           Cc1ccc(CCc2cccc(CCc3ccc(C)cc3)[n+]2C)cc1      1\n",
      "90                            CC(CS)C(=O)N1CCCC1C(=O)O      0\n",
      "605        O=C(C=Cc1ccc2c(c1)CN(S(=O)(=O)c1cccs1)C2)NO      0\n",
      "666                  O=C(c1ccccc1)C1CCN(CCc2ccccc2)CC1      1\n",
      "130  CC1CN(C(=O)c2ccccc2)CCN1C(=O)C(=O)c1c[nH]c2cnc...      0\n",
      "457               Cc1nc(-c2ccccc2)nc(OCCCN2CCCCC2)c1Cl      1\n",
      "652         O=C(O)CC1COc2cc3c(cc21)OCC(c1cccc(Br)c1)O3      0\n",
      "157                        CCCCN(CC)CC#CCOc1ccc(Cl)cc1      1\n",
      "69                          CC(C)Cc1ccc(C(C)C(=O)O)cc1      0\n",
      "177                 CCN(CC)CCCN(c1ccccc1)C1Cc2ccccc2C1      1\n",
      "319                COc1ccc(-c2coc3cc(O)cc(O)c3c2=O)cc1      0\n",
      "155                       CCCCN(CC)CC#CC#Cc1ccc(Cl)cc1      1\n",
      "274                 CNC1CCN(c2ccc(Cl)c(Cl)c2)c2ccccc21      1\n",
      "656                  O=C(O)c1ccc(O)c2ncc(N3CCOCC3)cc12      0\n",
      "647                  O=C(O)C(=O)Nc1cccc(-c2nn[nH]n2)c1      0\n",
      "10                   C=C(F)CN(CC)C(=O)C1(c2cccs2)CC1CN      0\n",
      "Data saved to data/predictions_test_1.csv\n"
     ]
    }
   ],
   "source": [
    "y_dist = pd.DataFrame({\n",
    "    'smiles': probas_df['smiles'],\n",
    "    'diff': np.abs(y_pred_proba - y_pred),\n",
    "    'class': y_pred\n",
    "})\n",
    "\n",
    "# Trier le DataFrame par ordre croissant des différences\n",
    "y_dist_sorted = y_dist.sort_values(by='diff')\n",
    "\n",
    "# Afficher le DataFrame trié\n",
    "# print(y_dist_sorted.head(20))\n",
    "\n",
    "y_pred_200 = y_dist_sorted['class'].head(200).values\n",
    "\n",
    "\n",
    "\n",
    "\n",
    "y_final = y_dist_sorted.drop(columns=['diff'])\n",
    "\n",
    "print(y_final.head(20))\n",
    "\n",
    "save_to_csv(y_final, 'data/predictions_test_1.csv')\n",
    "\n",
    "\n"
   ]
  },
  {
   "cell_type": "code",
   "execution_count": null,
   "id": "ebae2766",
   "metadata": {},
   "outputs": [
    {
     "name": "stdout",
     "output_type": "stream",
     "text": [
      "278\n",
      "472\n"
     ]
    }
   ],
   "source": [
    "print(np.sum(y_final['class'] == 1))\n",
    "print(np.sum(y_final['class'] == 0))"
   ]
  },
  {
   "cell_type": "code",
   "execution_count": null,
   "id": "95d33162",
   "metadata": {},
   "outputs": [],
   "source": []
  }
 ],
 "metadata": {
  "kernelspec": {
   "display_name": "3.12.8",
   "language": "python",
   "name": "python3"
  },
  "language_info": {
   "codemirror_mode": {
    "name": "ipython",
    "version": 3
   },
   "file_extension": ".py",
   "mimetype": "text/x-python",
   "name": "python",
   "nbconvert_exporter": "python",
   "pygments_lexer": "ipython3",
   "version": "3.12.8"
  }
 },
 "nbformat": 4,
 "nbformat_minor": 5
}
