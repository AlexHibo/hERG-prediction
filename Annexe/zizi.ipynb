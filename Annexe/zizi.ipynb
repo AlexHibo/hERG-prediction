{
 "cells": [
  {
   "cell_type": "code",
   "execution_count": 1,
   "id": "164d4732",
   "metadata": {},
   "outputs": [],
   "source": [
    "import pandas as pd"
   ]
  },
  {
   "cell_type": "code",
   "execution_count": 24,
   "id": "f2d8d080",
   "metadata": {},
   "outputs": [],
   "source": [
    "noa = pd.read_csv(\"/Users/rayanedakhlaoui/Desktop/VivaAfricAI/pred_1 (1).csv\")\n",
    "rayane = pd.read_csv(\"/Users/rayanedakhlaoui/Desktop/VivaAfricAI/Final/pred1.csv\")"
   ]
  },
  {
   "cell_type": "code",
   "execution_count": 25,
   "id": "a1168399",
   "metadata": {},
   "outputs": [
    {
     "name": "stdout",
     "output_type": "stream",
     "text": [
      "class\n",
      "0    454\n",
      "1    296\n",
      "Name: count, dtype: int64\n",
      "class\n",
      "0    472\n",
      "1    278\n",
      "Name: count, dtype: int64\n"
     ]
    }
   ],
   "source": [
    "\n",
    "print(rayane['class'].value_counts())\n",
    "print(noa['class'].value_counts())"
   ]
  },
  {
   "cell_type": "code",
   "execution_count": 27,
   "id": "6e5409d8",
   "metadata": {},
   "outputs": [
    {
     "name": "stdout",
     "output_type": "stream",
     "text": [
      "Number of SMILES in noa not in rayane: 50\n"
     ]
    }
   ],
   "source": [
    "zizi = noa[:201]\n",
    "zouzou = rayane[:201]\n",
    "c= 0\n",
    "\n",
    "for data in zizi[\"smiles\"]:\n",
    "    if data not in zouzou[\"SMILES\"].values:\n",
    "        c+= 1\n",
    "print(\"Number of SMILES in noa not in rayane:\", c)"
   ]
  },
  {
   "cell_type": "code",
   "execution_count": null,
   "id": "a73613eb",
   "metadata": {},
   "outputs": [],
   "source": []
  }
 ],
 "metadata": {
  "kernelspec": {
   "display_name": "Python 3",
   "language": "python",
   "name": "python3"
  },
  "language_info": {
   "codemirror_mode": {
    "name": "ipython",
    "version": 3
   },
   "file_extension": ".py",
   "mimetype": "text/x-python",
   "name": "python",
   "nbconvert_exporter": "python",
   "pygments_lexer": "ipython3",
   "version": "3.11.9"
  }
 },
 "nbformat": 4,
 "nbformat_minor": 5
}
